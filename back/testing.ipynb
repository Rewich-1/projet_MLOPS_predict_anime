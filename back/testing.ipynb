{
 "cells": [
  {
   "cell_type": "code",
   "execution_count": 3,
   "metadata": {},
   "outputs": [
    {
     "name": "stdout",
     "output_type": "stream",
     "text": [
      "Prediction = {'\"0.3383432\"'}\n"
     ]
    }
   ],
   "source": [
    "import requests\n",
    "import json\n",
    "\n",
    "def requests_api(variable):\n",
    "    URL = 'http://localhost:5000/predict_rating'\n",
    "    rating = requests.post(URL, json.dumps(variable))\n",
    "    print(\"Prediction = \" + str({rating.text}))\n",
    "    return rating\n",
    "tmp = [0] * 3145\n",
    "tmp[120] = 1\n",
    "result = requests_api(tmp)"
   ]
  }
 ],
 "metadata": {
  "kernelspec": {
   "display_name": "Python 3",
   "language": "python",
   "name": "python3"
  },
  "language_info": {
   "codemirror_mode": {
    "name": "ipython",
    "version": 3
   },
   "file_extension": ".py",
   "mimetype": "text/x-python",
   "name": "python",
   "nbconvert_exporter": "python",
   "pygments_lexer": "ipython3",
   "version": "3.11.0"
  },
  "orig_nbformat": 4,
  "vscode": {
   "interpreter": {
    "hash": "11b56a382828864c4380454d83825ea45435331ac733bae7e00e85b9b1e9241d"
   }
  }
 },
 "nbformat": 4,
 "nbformat_minor": 2
}
