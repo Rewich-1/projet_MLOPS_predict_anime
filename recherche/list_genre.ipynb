{
 "cells": [
  {
   "cell_type": "code",
   "execution_count": 1,
   "metadata": {},
   "outputs": [],
   "source": [
    "import pandas as  pd\n",
    "import numpy as  np"
   ]
  },
  {
   "cell_type": "code",
   "execution_count": 2,
   "metadata": {},
   "outputs": [],
   "source": [
    "df = pd.read_csv('Anime_data.csv')"
   ]
  },
  {
   "cell_type": "code",
   "execution_count": 74,
   "metadata": {},
   "outputs": [],
   "source": [
    "df = df[\"Genre\"]"
   ]
  },
  {
   "cell_type": "code",
   "execution_count": 75,
   "metadata": {},
   "outputs": [],
   "source": [
    "df = df.dropna()"
   ]
  },
  {
   "cell_type": "code",
   "execution_count": 80,
   "metadata": {},
   "outputs": [
    {
     "data": {
      "text/plain": [
       "0        ['Action', 'Adventure', 'Comedy', 'Drama', 'Sc...\n",
       "1        ['Action', 'Space', 'Drama', 'Mystery', 'Sci-Fi']\n",
       "2        ['Action', 'Sci-Fi', 'Adventure', 'Comedy', 'D...\n",
       "3        ['Action', 'Magic', 'Police', 'Supernatural', ...\n",
       "4        ['Adventure', 'Fantasy', 'Shounen', 'Supernatu...\n",
       "                               ...                        \n",
       "15060    ['Action', 'Military', 'Sci-Fi', 'Supernatural...\n",
       "15061    ['Action', 'Adventure', 'Fantasy', 'Sci-Fi', '...\n",
       "15065    ['Action', 'Adventure', 'Comedy', 'Historical'...\n",
       "15069                         ['Comedy', 'Game', 'School']\n",
       "15074    ['Action', 'Fantasy', 'Horror', 'Martial Arts'...\n",
       "Name: Genre, Length: 4577, dtype: object"
      ]
     },
     "execution_count": 80,
     "metadata": {},
     "output_type": "execute_result"
    }
   ],
   "source": [
    "df = df.drop_duplicates()"
   ]
  },
  {
   "cell_type": "code",
   "execution_count": 81,
   "metadata": {},
   "outputs": [
    {
     "data": {
      "text/plain": [
       "0        ['Action', 'Adventure', 'Comedy', 'Drama', 'Sc...\n",
       "1        ['Action', 'Space', 'Drama', 'Mystery', 'Sci-Fi']\n",
       "2        ['Action', 'Sci-Fi', 'Adventure', 'Comedy', 'D...\n",
       "3        ['Action', 'Magic', 'Police', 'Supernatural', ...\n",
       "4        ['Adventure', 'Fantasy', 'Shounen', 'Supernatu...\n",
       "                               ...                        \n",
       "15070                                ['Action', 'Fantasy']\n",
       "15071                                ['Action', 'Fantasy']\n",
       "15072    ['Action', 'Comedy', 'Drama', 'Ecchi', 'Fantas...\n",
       "15073    ['Action', 'Comedy', 'Fantasy', 'Parody', 'Sci...\n",
       "15074    ['Action', 'Fantasy', 'Horror', 'Martial Arts'...\n",
       "Name: Genre, Length: 14990, dtype: object"
      ]
     },
     "execution_count": 81,
     "metadata": {},
     "output_type": "execute_result"
    }
   ],
   "source": [
    "df"
   ]
  },
  {
   "cell_type": "code",
   "execution_count": 94,
   "metadata": {},
   "outputs": [],
   "source": [
    "\n",
    "import ast\n",
    "\n",
    "list_genre = []\n",
    "for x in df:\n",
    "    x = ast.literal_eval(x)\n",
    "    for j in x:\n",
    "        if j not in list_genre:\n",
    "            list_genre.append(j)"
   ]
  },
  {
   "cell_type": "code",
   "execution_count": null,
   "metadata": {},
   "outputs": [
    {
     "data": {
      "text/plain": [
       "[\"['Action'\",\n",
       " \" 'Adventure'\",\n",
       " \" 'Comedy'\",\n",
       " \" 'Drama'\",\n",
       " \" 'Sci-Fi'\",\n",
       " \" 'Space']\",\n",
       " \" 'Space'\",\n",
       " \" 'Mystery'\",\n",
       " \" 'Sci-Fi']\",\n",
       " \" 'Shounen']\",\n",
       " \" 'Magic'\",\n",
       " \" 'Police'\",\n",
       " \" 'Supernatural'\",\n",
       " \" 'Mystery']\",\n",
       " \"['Adventure'\",\n",
       " \" 'Fantasy'\",\n",
       " \" 'Shounen'\",\n",
       " \" 'Supernatural']\",\n",
       " \" 'Sports'\",\n",
       " \"['Comedy'\",\n",
       " \" 'Josei'\",\n",
       " \" 'Romance'\",\n",
       " \" 'Slice of Life']\",\n",
       " \"['Slice of Life'\",\n",
       " \" 'Cars'\",\n",
       " \" 'Seinen']\",\n",
       " \"['Drama'\",\n",
       " \" 'Horror'\",\n",
       " \" 'Psychological'\",\n",
       " \" 'Seinen'\",\n",
       " \" 'Thriller']\",\n",
       " \" 'Super Power'\",\n",
       " \" 'Martial Arts'\",\n",
       " \" 'School'\",\n",
       " \" 'Sports']\",\n",
       " \" 'Ecchi'\",\n",
       " \" 'Drama']\",\n",
       " \" 'Vampire']\",\n",
       " \" 'Military'\",\n",
       " \" 'Historical'\",\n",
       " \" 'Dementia'\",\n",
       " \" 'Mecha']\",\n",
       " \" 'Mecha'\",\n",
       " \"['Sci-Fi'\",\n",
       " \" 'Demons'\",\n",
       " \" 'Samurai']\",\n",
       " \"['Samurai'\",\n",
       " \"['Game'\",\n",
       " \" 'Fantasy']\",\n",
       " \" 'Shoujo'\",\n",
       " \" 'Harem'\",\n",
       " \" 'Music'\",\n",
       " \" 'Romance']\",\n",
       " \" 'Shoujo']\",\n",
       " \"['Harem'\",\n",
       " \" 'Ecchi']\",\n",
       " \" 'School']\",\n",
       " \" 'Samurai'\",\n",
       " \" 'Super Power']\",\n",
       " \"['Military'\",\n",
       " \"['Space'\",\n",
       " \" 'Adventure']\",\n",
       " \" 'Shoujo Ai']\",\n",
       " \" 'Magic']\",\n",
       " \"['Music'\",\n",
       " \" 'Josei']\",\n",
       " \" 'Game'\",\n",
       " \"['Mecha'\",\n",
       " \"['Supernatural'\",\n",
       " \" 'Slice of Life'\",\n",
       " \" 'Shounen Ai']\",\n",
       " \" 'Kids'\",\n",
       " \"['Historical'\",\n",
       " \"['Mystery'\",\n",
       " \"['Magic'\",\n",
       " \"['School'\",\n",
       " \" 'Hentai'\",\n",
       " \"['Hentai']\",\n",
       " \" 'Hentai']\",\n",
       " \" 'Parody'\",\n",
       " \" 'Martial Arts']\",\n",
       " \" 'Parody']\",\n",
       " \"['Fantasy'\",\n",
       " \" 'Comedy']\",\n",
       " \"['Horror'\",\n",
       " \" 'Vampire'\",\n",
       " \"['Ecchi'\",\n",
       " \"['Kids'\",\n",
       " \"['Sports'\",\n",
       " \" 'Yuri']\",\n",
       " \"['Dementia'\",\n",
       " \"['Romance'\",\n",
       " \"['Police'\",\n",
       " \"['Psychological'\",\n",
       " \"['Shounen'\",\n",
       " \" 'Horror']\",\n",
       " \" 'Game']\",\n",
       " \" 'Historical']\",\n",
       " \" 'Kids']\",\n",
       " \"['Demons'\",\n",
       " \" 'Shounen Ai'\",\n",
       " \" 'Shoujo Ai'\",\n",
       " \"['Comedy']\",\n",
       " \" 'Psychological']\",\n",
       " \" 'Thriller'\",\n",
       " \" 'Music']\",\n",
       " \"['Parody'\",\n",
       " \" 'Military']\",\n",
       " \" 'Yaoi']\",\n",
       " \"['Hentai'\",\n",
       " \"['Mystery']\",\n",
       " \"['Kids']\",\n",
       " \" 'Police']\",\n",
       " \"['Shoujo']\",\n",
       " \" 'Demons']\",\n",
       " \"['Sci-Fi']\",\n",
       " \"['Drama']\",\n",
       " \"['Shounen']\",\n",
       " \"['Super Power'\",\n",
       " \"['Action']\",\n",
       " \"['Slice of Life']\",\n",
       " \"['Mecha']\",\n",
       " \"['Fantasy']\",\n",
       " \"['Adventure']\",\n",
       " \"['Music']\",\n",
       " \"['Historical']\",\n",
       " \"['Sports']\",\n",
       " \"['Supernatural']\",\n",
       " \"['Parody']\",\n",
       " \"['Cars'\",\n",
       " \"['Ecchi']\",\n",
       " \"['Romance']\",\n",
       " \" 'Cars']\",\n",
       " \"['School']\",\n",
       " \"['Vampire']\",\n",
       " \"['Horror']\",\n",
       " \"['Cars']\",\n",
       " \" 'Dementia']\",\n",
       " \"['Harem']\",\n",
       " \"['Martial Arts']\",\n",
       " \"['Samurai']\",\n",
       " \"['Martial Arts'\",\n",
       " \"['Magic']\",\n",
       " \"['Military']\",\n",
       " \"['Dementia']\",\n",
       " \"['Yaoi']\",\n",
       " \"['Thriller'\",\n",
       " \" 'Harem']\",\n",
       " \"['Seinen']\",\n",
       " \"['Game']\",\n",
       " \"['Josei'\",\n",
       " \"['Psychological']\",\n",
       " \"['Seinen'\",\n",
       " \"['Shoujo'\",\n",
       " \"['Demons']\",\n",
       " \"['Space']\",\n",
       " \"['Police']\",\n",
       " \"['Josei']\",\n",
       " \"['Thriller']\",\n",
       " \"['Shounen Ai']\",\n",
       " \"['Super Power']\",\n",
       " \"['Yaoi'\",\n",
       " \" 'Yaoi'\"]"
      ]
     },
     "execution_count": 58,
     "metadata": {},
     "output_type": "execute_result"
    }
   ],
   "source": [
    "list_genre"
   ]
  },
  {
   "cell_type": "code",
   "execution_count": 101,
   "metadata": {},
   "outputs": [],
   "source": [
    "import json\n",
    "\n",
    "\n",
    "with open(\"../data/list_genre\", \"w\") as fp:\n",
    "    json.dump(list_genre, fp)"
   ]
  }
 ],
 "metadata": {
  "kernelspec": {
   "display_name": "base",
   "language": "python",
   "name": "python3"
  },
  "language_info": {
   "codemirror_mode": {
    "name": "ipython",
    "version": 3
   },
   "file_extension": ".py",
   "mimetype": "text/x-python",
   "name": "python",
   "nbconvert_exporter": "python",
   "pygments_lexer": "ipython3",
   "version": "3.9.13"
  },
  "orig_nbformat": 4,
  "vscode": {
   "interpreter": {
    "hash": "17d203b3035f27d34dcdc2437cbe7b635f83afb10f90c418367e6fba7ea27f11"
   }
  }
 },
 "nbformat": 4,
 "nbformat_minor": 2
}
