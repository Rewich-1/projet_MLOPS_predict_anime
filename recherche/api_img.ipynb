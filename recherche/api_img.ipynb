{
 "cells": [
  {
   "cell_type": "code",
   "execution_count": 6,
   "metadata": {},
   "outputs": [],
   "source": [
    "from anime_api.apis import AnimechanAPI\n",
    "\n",
    "api = AnimechanAPI()\n",
    "\n",
    "quotes = api.search_by_anime_title(anime_title=\"naruto\")"
   ]
  },
  {
   "cell_type": "code",
   "execution_count": 7,
   "metadata": {},
   "outputs": [
    {
     "data": {
      "text/plain": [
       "[Quote(anime='Naruto Shippuuden', character='Sasuke Uchiha', quote='No man chooses evil because it is evil; he only mistakes it for happiness, the good he seeks'),\n",
       " Quote(anime='Naruto', character='Yashamaru', quote=\"Physical wounds will definitely bleed and may look painful \\nbut over time they heal by themselves and if you apply medicine, \\nthey will heal faster. What's troublesome are wounds of the heart. Nothing is harder to heal. They're a bit different from physical injuries. You can't apply medicine for one thing and sometimes, they never heal. There's only one cure for a wound of the heart. \\nIt's a bit bothersome and you can only receive it from someone else. What is it? Love.\"),\n",
       " Quote(anime='Naruto Shippuuden', character='Sasuke Uchiha', quote='Having too many bonds causes one to lose focus, weakening their strongest wish, their greatest desire.'),\n",
       " Quote(anime='Naruto Shippuuden', character='Obito Uchiha', quote='The moment people come to know love, they run the risk of carrying hate.'),\n",
       " Quote(anime='Naruto', character='Shino Aburame', quote='Trying to improve by learning from others that is what calls friendship.'),\n",
       " Quote(anime='Naruto', character='Itachi Uchiha', quote='Those who forgive themselves, and are able to accept their true nature... They are the strong ones!'),\n",
       " Quote(anime='Naruto Shippūden', character='Madara Uchiha', quote='Love is not necessary, power is the only true necessity.'),\n",
       " Quote(anime='Naruto Shippūden', character='Itachi Uchiha', quote=\"I actually don't think something like perfection exists. That is I think why we are born able to absorb things... and by comparing ourselves with something else we can finally head in a good direction.\"),\n",
       " Quote(anime='Naruto Shippuuden', character='Madara Uchiha', quote='People cannot show each other their true feelings. Fear, suspicion, and resentment never subside.'),\n",
       " Quote(anime='Boruto: Naruto Next Generations', character='Naruto Uzumaki', quote='The many lives lost during long years of conflict... because of those selfless sacrifices, we are able to bathe in peace and prosperity now. To ingrain this history within the new generation will be a vital cog in helping to maintain the peace.')]"
      ]
     },
     "execution_count": 7,
     "metadata": {},
     "output_type": "execute_result"
    }
   ],
   "source": [
    "quotes"
   ]
  }
 ],
 "metadata": {
  "kernelspec": {
   "display_name": "base",
   "language": "python",
   "name": "python3"
  },
  "language_info": {
   "codemirror_mode": {
    "name": "ipython",
    "version": 3
   },
   "file_extension": ".py",
   "mimetype": "text/x-python",
   "name": "python",
   "nbconvert_exporter": "python",
   "pygments_lexer": "ipython3",
   "version": "3.9.13"
  },
  "orig_nbformat": 4,
  "vscode": {
   "interpreter": {
    "hash": "17d203b3035f27d34dcdc2437cbe7b635f83afb10f90c418367e6fba7ea27f11"
   }
  }
 },
 "nbformat": 4,
 "nbformat_minor": 2
}
