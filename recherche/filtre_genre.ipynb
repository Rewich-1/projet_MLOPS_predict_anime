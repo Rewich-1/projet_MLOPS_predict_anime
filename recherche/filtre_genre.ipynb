{
 "cells": [
  {
   "cell_type": "code",
   "execution_count": 2,
   "metadata": {},
   "outputs": [],
   "source": [
    "import pandas as  pd\n",
    "import numpy as  np"
   ]
  },
  {
   "cell_type": "code",
   "execution_count": 25,
   "metadata": {},
   "outputs": [],
   "source": [
    "df = pd.read_csv('../data/Anime_data.csv')"
   ]
  },
  {
   "cell_type": "code",
   "execution_count": 26,
   "metadata": {},
   "outputs": [],
   "source": [
    "Genre_rep = [\"Action\",\"Adventure\",\"Comedy\"]"
   ]
  },
  {
   "cell_type": "code",
   "execution_count": 30,
   "metadata": {},
   "outputs": [],
   "source": [
    "df = df.dropna()\n",
    "df = df[df['Genre'].str.contains('|'.join(Genre_rep), case=False )]"
   ]
  },
  {
   "cell_type": "code",
   "execution_count": 31,
   "metadata": {},
   "outputs": [
    {
     "data": {
      "text/plain": [
       "0        ['Action', 'Adventure', 'Comedy', 'Drama', 'Sc...\n",
       "1        ['Action', 'Space', 'Drama', 'Mystery', 'Sci-Fi']\n",
       "2        ['Action', 'Sci-Fi', 'Adventure', 'Comedy', 'D...\n",
       "3        ['Action', 'Magic', 'Police', 'Supernatural', ...\n",
       "5                ['Action', 'Sports', 'Comedy', 'Shounen']\n",
       "                               ...                        \n",
       "13047                                 ['Comedy', 'School']\n",
       "13330                                ['Action', 'Fantasy']\n",
       "14308                     ['Comedy', 'Fantasy', 'Shounen']\n",
       "14379                                  ['Music', 'Comedy']\n",
       "14475                   ['Action', 'Adventure', 'Shounen']\n",
       "Name: Genre, Length: 3288, dtype: object"
      ]
     },
     "execution_count": 31,
     "metadata": {},
     "output_type": "execute_result"
    }
   ],
   "source": [
    "df['Genre']"
   ]
  }
 ],
 "metadata": {
  "kernelspec": {
   "display_name": "base",
   "language": "python",
   "name": "python3"
  },
  "language_info": {
   "codemirror_mode": {
    "name": "ipython",
    "version": 3
   },
   "file_extension": ".py",
   "mimetype": "text/x-python",
   "name": "python",
   "nbconvert_exporter": "python",
   "pygments_lexer": "ipython3",
   "version": "3.9.13"
  },
  "orig_nbformat": 4,
  "vscode": {
   "interpreter": {
    "hash": "17d203b3035f27d34dcdc2437cbe7b635f83afb10f90c418367e6fba7ea27f11"
   }
  }
 },
 "nbformat": 4,
 "nbformat_minor": 2
}
